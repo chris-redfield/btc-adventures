{
 "cells": [
  {
   "cell_type": "code",
   "execution_count": 1,
   "metadata": {},
   "outputs": [
    {
     "name": "stderr",
     "output_type": "stream",
     "text": [
      "Using TensorFlow backend.\n"
     ]
    }
   ],
   "source": [
    "import keras\n",
    "import quandl\n",
    "import numpy as np\n",
    "\n",
    "from keras import layers\n",
    "from keras.layers import Input, Dense, Activation, ZeroPadding2D, BatchNormalization, Flatten, Conv2D\n",
    "from keras.layers import AveragePooling2D, MaxPooling2D, Dropout, GlobalMaxPooling2D, GlobalAveragePooling2D\n",
    "from keras.models import Model\n",
    "from keras.preprocessing import image\n",
    "from keras.utils import layer_utils\n",
    "from keras.utils.data_utils import get_file\n",
    "from keras.applications.imagenet_utils import preprocess_input\n",
    "\n",
    "import keras.backend as K\n",
    "from sklearn.model_selection import KFold\n",
    "\n",
    "%matplotlib inline"
   ]
  },
  {
   "cell_type": "code",
   "execution_count": 2,
   "metadata": {},
   "outputs": [],
   "source": [
    "#data = quandl.get('BCHARTS/BITFINEXUSD') -> OLD BUGGY DATASET (OBD)\n",
    "data = quandl.get('BITFINEX/BTCUSD')\n",
    "#data = quandl.get('BITFINEX/XRPBTC')\n",
    "#data = quandl.get('BITFINEX/ETHBTC')"
   ]
  },
  {
   "cell_type": "code",
   "execution_count": 3,
   "metadata": {},
   "outputs": [
    {
     "data": {
      "text/html": [
       "<div>\n",
       "<table border=\"1\" class=\"dataframe\">\n",
       "  <thead>\n",
       "    <tr style=\"text-align: right;\">\n",
       "      <th></th>\n",
       "      <th>High</th>\n",
       "      <th>Low</th>\n",
       "      <th>Mid</th>\n",
       "      <th>Last</th>\n",
       "      <th>Bid</th>\n",
       "      <th>Ask</th>\n",
       "      <th>Volume</th>\n",
       "    </tr>\n",
       "    <tr>\n",
       "      <th>Date</th>\n",
       "      <th></th>\n",
       "      <th></th>\n",
       "      <th></th>\n",
       "      <th></th>\n",
       "      <th></th>\n",
       "      <th></th>\n",
       "      <th></th>\n",
       "    </tr>\n",
       "  </thead>\n",
       "  <tbody>\n",
       "    <tr>\n",
       "      <th>2014-04-15</th>\n",
       "      <td>513.9000</td>\n",
       "      <td>452.00</td>\n",
       "      <td>504.23500</td>\n",
       "      <td>505.0000</td>\n",
       "      <td>503.5000</td>\n",
       "      <td>504.97</td>\n",
       "      <td>21013.584774</td>\n",
       "    </tr>\n",
       "    <tr>\n",
       "      <th>2014-04-16</th>\n",
       "      <td>547.0000</td>\n",
       "      <td>495.00</td>\n",
       "      <td>537.50000</td>\n",
       "      <td>538.0000</td>\n",
       "      <td>537.0000</td>\n",
       "      <td>538.00</td>\n",
       "      <td>29633.358705</td>\n",
       "    </tr>\n",
       "    <tr>\n",
       "      <th>2014-04-17</th>\n",
       "      <td>538.5000</td>\n",
       "      <td>486.10</td>\n",
       "      <td>507.02000</td>\n",
       "      <td>508.0000</td>\n",
       "      <td>506.0400</td>\n",
       "      <td>508.00</td>\n",
       "      <td>20709.783819</td>\n",
       "    </tr>\n",
       "    <tr>\n",
       "      <th>2014-04-18</th>\n",
       "      <td>509.0000</td>\n",
       "      <td>474.25</td>\n",
       "      <td>483.77000</td>\n",
       "      <td>482.7500</td>\n",
       "      <td>482.7500</td>\n",
       "      <td>484.79</td>\n",
       "      <td>10458.045243</td>\n",
       "    </tr>\n",
       "    <tr>\n",
       "      <th>2014-04-19</th>\n",
       "      <td>513.9899</td>\n",
       "      <td>473.83</td>\n",
       "      <td>505.01065</td>\n",
       "      <td>507.4999</td>\n",
       "      <td>502.5313</td>\n",
       "      <td>507.49</td>\n",
       "      <td>8963.618369</td>\n",
       "    </tr>\n",
       "  </tbody>\n",
       "</table>\n",
       "</div>"
      ],
      "text/plain": [
       "                High     Low        Mid      Last       Bid     Ask  \\\n",
       "Date                                                                  \n",
       "2014-04-15  513.9000  452.00  504.23500  505.0000  503.5000  504.97   \n",
       "2014-04-16  547.0000  495.00  537.50000  538.0000  537.0000  538.00   \n",
       "2014-04-17  538.5000  486.10  507.02000  508.0000  506.0400  508.00   \n",
       "2014-04-18  509.0000  474.25  483.77000  482.7500  482.7500  484.79   \n",
       "2014-04-19  513.9899  473.83  505.01065  507.4999  502.5313  507.49   \n",
       "\n",
       "                  Volume  \n",
       "Date                      \n",
       "2014-04-15  21013.584774  \n",
       "2014-04-16  29633.358705  \n",
       "2014-04-17  20709.783819  \n",
       "2014-04-18  10458.045243  \n",
       "2014-04-19   8963.618369  "
      ]
     },
     "execution_count": 3,
     "metadata": {},
     "output_type": "execute_result"
    }
   ],
   "source": [
    "data.head()"
   ]
  },
  {
   "cell_type": "code",
   "execution_count": 4,
   "metadata": {},
   "outputs": [
    {
     "name": "stdout",
     "output_type": "stream",
     "text": [
      "data shape before embedding: (1336, 7)\n",
      "data shape after embedding: (1321, 15, 7)\n"
     ]
    }
   ],
   "source": [
    "print(\"data shape before embedding:\",data.shape)\n",
    "\n",
    "mean = data.mean(axis=0)\n",
    "std = data.std(axis=0)\n",
    "\n",
    "# zscore normalization\n",
    "data = ( data - mean ) / std\n",
    "\n",
    "# # of days past we want skynet to see\n",
    "d = 15\n",
    "\n",
    "X = np.zeros((data.shape[0],d,data.shape[1]))\n",
    "\n",
    "# embedding d days in each DP (deslocamento)\n",
    "for i in range(d,data.shape[0]):\n",
    "    X[i,:,:] = data.iloc[i-d:i].values\n",
    "\n",
    "#removing first d lines, this ones didn't have d days past\n",
    "X = X[d:,:,:]\n",
    "\n",
    "print(\"data shape after embedding:\",X.shape)"
   ]
  },
  {
   "cell_type": "code",
   "execution_count": 5,
   "metadata": {},
   "outputs": [
    {
     "data": {
      "text/plain": [
       "(1336,)"
      ]
     },
     "execution_count": 5,
     "metadata": {},
     "output_type": "execute_result"
    }
   ],
   "source": [
    "# creating labels\n",
    "Y = data['Mid'] - data.shift(1)['Mid']\n",
    "\n",
    "Y = Y > 0\n",
    "\n",
    "Y.shape"
   ]
  },
  {
   "cell_type": "code",
   "execution_count": 6,
   "metadata": {},
   "outputs": [],
   "source": [
    "#removing first line: second label refers to first DP ($$ delta)\n",
    "Y = Y[1:]\n",
    "\n",
    "#removing first d days because of the embedding\n",
    "Y = Y[d:]"
   ]
  },
  {
   "cell_type": "code",
   "execution_count": 7,
   "metadata": {},
   "outputs": [],
   "source": [
    "#removing last registry from X, since we had to remove first DP from Y\n",
    "#specifying other dimensions for good practices - TY @lucasosouza\n",
    "X = X[: -1,:,:]"
   ]
  },
  {
   "cell_type": "code",
   "execution_count": 8,
   "metadata": {},
   "outputs": [
    {
     "data": {
      "text/plain": [
       "((1320,), (1320, 15, 7))"
      ]
     },
     "execution_count": 8,
     "metadata": {},
     "output_type": "execute_result"
    }
   ],
   "source": [
    "# checking shapes\n",
    "Y.shape, X.shape"
   ]
  },
  {
   "cell_type": "code",
   "execution_count": 9,
   "metadata": {},
   "outputs": [
    {
     "data": {
      "text/plain": [
       "(1320, 15, 7, 1)"
      ]
     },
     "execution_count": 9,
     "metadata": {},
     "output_type": "execute_result"
    }
   ],
   "source": [
    "# Adding channel layer, as expected by the convnet\n",
    "X = X.reshape((Y.shape[0],d,7,1))\n",
    "X.shape"
   ]
  },
  {
   "cell_type": "code",
   "execution_count": 10,
   "metadata": {},
   "outputs": [],
   "source": [
    "# train / test split\n",
    "#X_train = X[:-300,:,:,:]\n",
    "#X_test = X[-300:,:,:,:]\n",
    "#Y_train = Y[:-300]\n",
    "#Y_test = Y[-300:]\n",
    "\n",
    "# split dat data \n",
    "kf = KFold(n_splits=8,shuffle=True,random_state=0)\n",
    "for train_index, test_index in kf.split(X):\n",
    "    X_train, X_test = X[train_index], X[test_index]\n",
    "    Y_train, Y_test = Y[train_index], Y[test_index]\n",
    "    #print(\"TRAIN:\", train_index, \"TEST:\", test_index)"
   ]
  },
  {
   "cell_type": "code",
   "execution_count": 11,
   "metadata": {},
   "outputs": [],
   "source": [
    "def model(input_shape):\n",
    "    \n",
    "    X_input = Input(input_shape)\n",
    "    \n",
    "    #padding same so we dont lose size\n",
    "    X = Conv2D(32,(3,3), strides=(1,1),name=\"conv0\", padding=\"same\")(X_input)\n",
    "    X = BatchNormalization(axis=3,name='bn0')(X)\n",
    "    X = Activation('relu')(X)\n",
    "\n",
    "    #X = MaxPooling2D((2,2),name='max_pool0')(X)\n",
    "    \n",
    "    #Second conv\n",
    "    X = Conv2D(64,(2,2), strides=(1,1),name=\"conv1\", padding=\"same\")(X)\n",
    "    X = BatchNormalization(axis=3,name='bn1')(X)\n",
    "    X = Activation('relu')(X)\n",
    "\n",
    "    #X = MaxPooling2D((2,2),name='max_pool1')(X)\n",
    "    \n",
    "    #Third conv\n",
    "    X = Conv2D(128,(1,1), strides=(1,1),name=\"conv2\", padding=\"same\")(X)\n",
    "    X = BatchNormalization(axis=3,name='bn2')(X)\n",
    "    X = Activation('relu')(X)\n",
    "    \n",
    "    #fcs\n",
    "    X = Flatten()(X)\n",
    "    X = Dense(128,activation=\"relu\")(X)\n",
    "    X = Dropout(rate=0.3, seed=0)(X)\n",
    "    X = Dense(64,activation=\"relu\")(X)\n",
    "    #X = Dropout(rate=0.3, seed=0)(X)\n",
    "    X = Dense(32,activation=\"relu\")(X)\n",
    "    #X = Dropout(rate=0.3, seed=0)(X)\n",
    "    X = Dense(1,activation=\"sigmoid\")(X)\n",
    "    \n",
    "    model = Model(inputs=X_input,outputs=X, name=\"model1\")\n",
    "    \n",
    "    return model"
   ]
  },
  {
   "cell_type": "code",
   "execution_count": 12,
   "metadata": {},
   "outputs": [
    {
     "name": "stdout",
     "output_type": "stream",
     "text": [
      "Epoch 1/130\n",
      "1155/1155 [==============================] - 8s 7ms/step - loss: 0.8928 - acc: 0.4918\n",
      "Epoch 2/130\n",
      "1155/1155 [==============================] - 8s 7ms/step - loss: 0.7271 - acc: 0.5394\n",
      "Epoch 3/130\n",
      "1155/1155 [==============================] - 8s 7ms/step - loss: 0.7045 - acc: 0.5333\n",
      "Epoch 4/130\n",
      "1155/1155 [==============================] - 8s 7ms/step - loss: 0.7034 - acc: 0.5186\n",
      "Epoch 5/130\n",
      "1155/1155 [==============================] - 9s 7ms/step - loss: 0.7014 - acc: 0.5333\n",
      "Epoch 6/130\n",
      "1155/1155 [==============================] - 8s 7ms/step - loss: 0.7013 - acc: 0.5203\n",
      "Epoch 7/130\n",
      "1155/1155 [==============================] - 8s 7ms/step - loss: 0.6929 - acc: 0.5420\n",
      "Epoch 8/130\n",
      "1155/1155 [==============================] - 8s 7ms/step - loss: 0.6920 - acc: 0.5524\n",
      "Epoch 9/130\n",
      "1155/1155 [==============================] - 8s 7ms/step - loss: 0.6923 - acc: 0.5186\n",
      "Epoch 10/130\n",
      "1155/1155 [==============================] - 8s 7ms/step - loss: 0.6929 - acc: 0.5255\n",
      "Epoch 11/130\n",
      "1155/1155 [==============================] - 9s 8ms/step - loss: 0.6915 - acc: 0.5446\n",
      "Epoch 12/130\n",
      "1155/1155 [==============================] - 7s 6ms/step - loss: 0.6895 - acc: 0.5394A: 1s - loss:\n",
      "Epoch 13/130\n",
      "1155/1155 [==============================] - 8s 7ms/step - loss: 0.6856 - acc: 0.5532\n",
      "Epoch 14/130\n",
      "1155/1155 [==============================] - 8s 7ms/step - loss: 0.6878 - acc: 0.5628\n",
      "Epoch 15/130\n",
      "1155/1155 [==============================] - 8s 7ms/step - loss: 0.6867 - acc: 0.5576\n",
      "Epoch 16/130\n",
      "1155/1155 [==============================] - 8s 7ms/step - loss: 0.6849 - acc: 0.5740\n",
      "Epoch 17/130\n",
      "1155/1155 [==============================] - 8s 7ms/step - loss: 0.6913 - acc: 0.5550\n",
      "Epoch 18/130\n",
      "1155/1155 [==============================] - 8s 7ms/step - loss: 0.6870 - acc: 0.5688\n",
      "Epoch 19/130\n",
      "1155/1155 [==============================] - 8s 7ms/step - loss: 0.6833 - acc: 0.5662\n",
      "Epoch 20/130\n",
      "1155/1155 [==============================] - 8s 7ms/step - loss: 0.6786 - acc: 0.5766\n",
      "Epoch 21/130\n",
      "1155/1155 [==============================] - 8s 7ms/step - loss: 0.6822 - acc: 0.5567\n",
      "Epoch 22/130\n",
      "1155/1155 [==============================] - 8s 7ms/step - loss: 0.6809 - acc: 0.5688\n",
      "Epoch 23/130\n",
      "1155/1155 [==============================] - 8s 7ms/step - loss: 0.6811 - acc: 0.5636\n",
      "Epoch 24/130\n",
      "1155/1155 [==============================] - 8s 7ms/step - loss: 0.6687 - acc: 0.5844\n",
      "Epoch 25/130\n",
      "1155/1155 [==============================] - 8s 7ms/step - loss: 0.6727 - acc: 0.5775\n",
      "Epoch 26/130\n",
      "1155/1155 [==============================] - 8s 7ms/step - loss: 0.6638 - acc: 0.5827\n",
      "Epoch 27/130\n",
      "1155/1155 [==============================] - 8s 7ms/step - loss: 0.6609 - acc: 0.5896\n",
      "Epoch 28/130\n",
      "1155/1155 [==============================] - 9s 7ms/step - loss: 0.6581 - acc: 0.6035\n",
      "Epoch 29/130\n",
      "1155/1155 [==============================] - 8s 7ms/step - loss: 0.6474 - acc: 0.6294\n",
      "Epoch 30/130\n",
      "1155/1155 [==============================] - 8s 7ms/step - loss: 0.6363 - acc: 0.6398\n",
      "Epoch 31/130\n",
      "1155/1155 [==============================] - 8s 7ms/step - loss: 0.6321 - acc: 0.6225\n",
      "Epoch 32/130\n",
      "1155/1155 [==============================] - 8s 7ms/step - loss: 0.6229 - acc: 0.6416\n",
      "Epoch 33/130\n",
      "1155/1155 [==============================] - 9s 7ms/step - loss: 0.6164 - acc: 0.6494\n",
      "Epoch 34/130\n",
      "1155/1155 [==============================] - 8s 7ms/step - loss: 0.6050 - acc: 0.6667\n",
      "Epoch 35/130\n",
      "1155/1155 [==============================] - 8s 7ms/step - loss: 0.5806 - acc: 0.6909\n",
      "Epoch 36/130\n",
      "1155/1155 [==============================] - 8s 7ms/step - loss: 0.5736 - acc: 0.6866\n",
      "Epoch 37/130\n",
      "1155/1155 [==============================] - 8s 7ms/step - loss: 0.5516 - acc: 0.7022\n",
      "Epoch 38/130\n",
      "1155/1155 [==============================] - 8s 7ms/step - loss: 0.5284 - acc: 0.7203\n",
      "Epoch 39/130\n",
      "1155/1155 [==============================] - 8s 7ms/step - loss: 0.5187 - acc: 0.7307\n",
      "Epoch 40/130\n",
      "1155/1155 [==============================] - 9s 8ms/step - loss: 0.4901 - acc: 0.7446\n",
      "Epoch 41/130\n",
      "1155/1155 [==============================] - 8s 7ms/step - loss: 0.4900 - acc: 0.7385\n",
      "Epoch 42/130\n",
      "1155/1155 [==============================] - 8s 7ms/step - loss: 0.4578 - acc: 0.7671\n",
      "Epoch 43/130\n",
      "1155/1155 [==============================] - 8s 7ms/step - loss: 0.4326 - acc: 0.7775\n",
      "Epoch 44/130\n",
      "1155/1155 [==============================] - 8s 7ms/step - loss: 0.4402 - acc: 0.7740\n",
      "Epoch 45/130\n",
      "1155/1155 [==============================] - 7s 6ms/step - loss: 0.3873 - acc: 0.7983\n",
      "Epoch 46/130\n",
      "1155/1155 [==============================] - 7s 6ms/step - loss: 0.4021 - acc: 0.7948\n",
      "Epoch 47/130\n",
      "1155/1155 [==============================] - 7s 6ms/step - loss: 0.3876 - acc: 0.7983\n",
      "Epoch 48/130\n",
      "1155/1155 [==============================] - 7s 6ms/step - loss: 0.3616 - acc: 0.8251\n",
      "Epoch 49/130\n",
      "1155/1155 [==============================] - 7s 6ms/step - loss: 0.3187 - acc: 0.8433\n",
      "Epoch 50/130\n",
      "1155/1155 [==============================] - 8s 7ms/step - loss: 0.2981 - acc: 0.8494\n",
      "Epoch 51/130\n",
      "1155/1155 [==============================] - 8s 7ms/step - loss: 0.3137 - acc: 0.8528\n",
      "Epoch 52/130\n",
      "1155/1155 [==============================] - 8s 7ms/step - loss: 0.3204 - acc: 0.8571\n",
      "Epoch 53/130\n",
      "1155/1155 [==============================] - 8s 7ms/step - loss: 0.2981 - acc: 0.8528\n",
      "Epoch 54/130\n",
      "1155/1155 [==============================] - 8s 7ms/step - loss: 0.2726 - acc: 0.8701\n",
      "Epoch 55/130\n",
      "1155/1155 [==============================] - 8s 7ms/step - loss: 0.2884 - acc: 0.8649\n",
      "Epoch 56/130\n",
      "1155/1155 [==============================] - 9s 7ms/step - loss: 0.2738 - acc: 0.8745\n",
      "Epoch 57/130\n",
      "1155/1155 [==============================] - 8s 7ms/step - loss: 0.2526 - acc: 0.8805\n",
      "Epoch 58/130\n",
      "1155/1155 [==============================] - 8s 7ms/step - loss: 0.2491 - acc: 0.8840\n",
      "Epoch 59/130\n",
      "1155/1155 [==============================] - 8s 7ms/step - loss: 0.2426 - acc: 0.8918\n",
      "Epoch 60/130\n",
      "1155/1155 [==============================] - 8s 7ms/step - loss: 0.2217 - acc: 0.8797\n",
      "Epoch 61/130\n",
      "1155/1155 [==============================] - 9s 8ms/step - loss: 0.2112 - acc: 0.8883\n",
      "Epoch 62/130\n",
      "1155/1155 [==============================] - 8s 7ms/step - loss: 0.2429 - acc: 0.8779\n",
      "Epoch 63/130\n",
      "1155/1155 [==============================] - 8s 7ms/step - loss: 0.2383 - acc: 0.8805\n",
      "Epoch 64/130\n",
      "1155/1155 [==============================] - 8s 7ms/step - loss: 0.2515 - acc: 0.8857\n",
      "Epoch 65/130\n",
      "1155/1155 [==============================] - 9s 7ms/step - loss: 0.2329 - acc: 0.8883\n",
      "Epoch 66/130\n",
      "1155/1155 [==============================] - 10s 9ms/step - loss: 0.2207 - acc: 0.8918\n",
      "Epoch 67/130\n",
      "1155/1155 [==============================] - 10s 9ms/step - loss: 0.1903 - acc: 0.9022\n",
      "Epoch 68/130\n",
      "1155/1155 [==============================] - 11s 9ms/step - loss: 0.1938 - acc: 0.9039\n",
      "Epoch 69/130\n",
      "1155/1155 [==============================] - 8s 7ms/step - loss: 0.2018 - acc: 0.9013\n",
      "Epoch 70/130\n",
      "1155/1155 [==============================] - 8s 7ms/step - loss: 0.1962 - acc: 0.9117\n",
      "Epoch 71/130\n",
      "1155/1155 [==============================] - 9s 8ms/step - loss: 0.1869 - acc: 0.9160\n",
      "Epoch 72/130\n",
      "1155/1155 [==============================] - 7s 6ms/step - loss: 0.1763 - acc: 0.9152\n",
      "Epoch 73/130\n",
      "1155/1155 [==============================] - 9s 8ms/step - loss: 0.1804 - acc: 0.9117\n",
      "Epoch 74/130\n",
      "1155/1155 [==============================] - 10s 9ms/step - loss: 0.1731 - acc: 0.9048\n",
      "Epoch 75/130\n",
      "1155/1155 [==============================] - 12s 10ms/step - loss: 0.1766 - acc: 0.9255\n",
      "Epoch 76/130\n",
      "1155/1155 [==============================] - 10s 8ms/step - loss: 0.1705 - acc: 0.9169\n",
      "Epoch 77/130\n",
      "1155/1155 [==============================] - 8s 6ms/step - loss: 0.1721 - acc: 0.9108\n",
      "Epoch 78/130\n",
      "1155/1155 [==============================] - 8s 7ms/step - loss: 0.1912 - acc: 0.9048\n",
      "Epoch 79/130\n",
      "1155/1155 [==============================] - 8s 7ms/step - loss: 0.1444 - acc: 0.9281\n",
      "Epoch 80/130\n",
      "1155/1155 [==============================] - 9s 7ms/step - loss: 0.1620 - acc: 0.9229\n",
      "Epoch 81/130\n",
      "1155/1155 [==============================] - 8s 7ms/step - loss: 0.1727 - acc: 0.9281\n",
      "Epoch 82/130\n",
      "1155/1155 [==============================] - 8s 7ms/step - loss: 0.1815 - acc: 0.9203\n",
      "Epoch 83/130\n"
     ]
    },
    {
     "name": "stdout",
     "output_type": "stream",
     "text": [
      "1155/1155 [==============================] - 9s 8ms/step - loss: 0.1507 - acc: 0.9229\n",
      "Epoch 84/130\n",
      "1155/1155 [==============================] - 9s 8ms/step - loss: 0.1419 - acc: 0.9290\n",
      "Epoch 85/130\n",
      "1155/1155 [==============================] - 9s 8ms/step - loss: 0.1395 - acc: 0.9394\n",
      "Epoch 86/130\n",
      "1155/1155 [==============================] - 9s 8ms/step - loss: 0.1580 - acc: 0.9273\n",
      "Epoch 87/130\n",
      "1155/1155 [==============================] - 8s 7ms/step - loss: 0.1782 - acc: 0.9264\n",
      "Epoch 88/130\n",
      "1155/1155 [==============================] - 8s 7ms/step - loss: 0.1518 - acc: 0.9273\n",
      "Epoch 89/130\n",
      "1155/1155 [==============================] - 9s 8ms/step - loss: 0.1566 - acc: 0.9290\n",
      "Epoch 90/130\n",
      "1155/1155 [==============================] - 10s 9ms/step - loss: 0.1889 - acc: 0.9238\n",
      "Epoch 91/130\n",
      "1155/1155 [==============================] - 11s 10ms/step - loss: 0.1547 - acc: 0.9316\n",
      "Epoch 92/130\n",
      "1155/1155 [==============================] - 11s 10ms/step - loss: 0.1380 - acc: 0.9377\n",
      "Epoch 93/130\n",
      "1155/1155 [==============================] - 11s 9ms/step - loss: 0.1038 - acc: 0.9532\n",
      "Epoch 94/130\n",
      "1155/1155 [==============================] - 11s 9ms/step - loss: 0.1361 - acc: 0.9255\n",
      "Epoch 95/130\n",
      "1155/1155 [==============================] - 11s 9ms/step - loss: 0.1705 - acc: 0.9290\n",
      "Epoch 96/130\n",
      "1155/1155 [==============================] - 11s 9ms/step - loss: 0.1526 - acc: 0.9342\n",
      "Epoch 97/130\n",
      "1155/1155 [==============================] - ETA: 0s - loss: 0.1270 - acc: 0.942 - 11s 10ms/step - loss: 0.1269 - acc: 0.9429\n",
      "Epoch 98/130\n",
      "1155/1155 [==============================] - 11s 9ms/step - loss: 0.1320 - acc: 0.9420\n",
      "Epoch 99/130\n",
      "1155/1155 [==============================] - 11s 9ms/step - loss: 0.1622 - acc: 0.9221\n",
      "Epoch 100/130\n",
      "1155/1155 [==============================] - 11s 9ms/step - loss: 0.1300 - acc: 0.9403\n",
      "Epoch 101/130\n",
      "1155/1155 [==============================] - 11s 9ms/step - loss: 0.1514 - acc: 0.9385\n",
      "Epoch 102/130\n",
      "1155/1155 [==============================] - 11s 10ms/step - loss: 0.1328 - acc: 0.9368\n",
      "Epoch 103/130\n",
      "1155/1155 [==============================] - 11s 9ms/step - loss: 0.1338 - acc: 0.9437\n",
      "Epoch 104/130\n",
      "1155/1155 [==============================] - 11s 9ms/step - loss: 0.1346 - acc: 0.9377\n",
      "Epoch 105/130\n",
      "1155/1155 [==============================] - 11s 9ms/step - loss: 0.1355 - acc: 0.9455\n",
      "Epoch 106/130\n",
      "1155/1155 [==============================] - 11s 10ms/step - loss: 0.1489 - acc: 0.9437\n",
      "Epoch 107/130\n",
      "1155/1155 [==============================] - 11s 10ms/step - loss: 0.1163 - acc: 0.9524\n",
      "Epoch 108/130\n",
      "1155/1155 [==============================] - 11s 10ms/step - loss: 0.1196 - acc: 0.9463\n",
      "Epoch 109/130\n",
      "1155/1155 [==============================] - 11s 10ms/step - loss: 0.1124 - acc: 0.9541\n",
      "Epoch 110/130\n",
      "1155/1155 [==============================] - 11s 10ms/step - loss: 0.1376 - acc: 0.9463\n",
      "Epoch 111/130\n",
      "1155/1155 [==============================] - 11s 10ms/step - loss: 0.1228 - acc: 0.9524\n",
      "Epoch 112/130\n",
      "1155/1155 [==============================] - 11s 10ms/step - loss: 0.1156 - acc: 0.9541\n",
      "Epoch 113/130\n",
      "1155/1155 [==============================] - 11s 10ms/step - loss: 0.1306 - acc: 0.9489\n",
      "Epoch 114/130\n",
      "1155/1155 [==============================] - 11s 10ms/step - loss: 0.1376 - acc: 0.9437\n",
      "Epoch 115/130\n",
      "1155/1155 [==============================] - 11s 10ms/step - loss: 0.1401 - acc: 0.9385\n",
      "Epoch 116/130\n",
      "1155/1155 [==============================] - 11s 9ms/step - loss: 0.1161 - acc: 0.9506\n",
      "Epoch 117/130\n",
      "1155/1155 [==============================] - 11s 10ms/step - loss: 0.1387 - acc: 0.9489\n",
      "Epoch 118/130\n",
      "1155/1155 [==============================] - 11s 10ms/step - loss: 0.1404 - acc: 0.9420\n",
      "Epoch 119/130\n",
      "1155/1155 [==============================] - 11s 10ms/step - loss: 0.1371 - acc: 0.9411\n",
      "Epoch 120/130\n",
      "1155/1155 [==============================] - 11s 10ms/step - loss: 0.1179 - acc: 0.9515\n",
      "Epoch 121/130\n",
      "1155/1155 [==============================] - 11s 10ms/step - loss: 0.1167 - acc: 0.9463\n",
      "Epoch 122/130\n",
      "1155/1155 [==============================] - 11s 10ms/step - loss: 0.1070 - acc: 0.9593\n",
      "Epoch 123/130\n",
      "1155/1155 [==============================] - 11s 10ms/step - loss: 0.0989 - acc: 0.9593\n",
      "Epoch 124/130\n",
      "1155/1155 [==============================] - 11s 10ms/step - loss: 0.1006 - acc: 0.9593\n",
      "Epoch 125/130\n",
      "1155/1155 [==============================] - 11s 10ms/step - loss: 0.0943 - acc: 0.9619\n",
      "Epoch 126/130\n",
      "1155/1155 [==============================] - 11s 10ms/step - loss: 0.1194 - acc: 0.9506\n",
      "Epoch 127/130\n",
      "1155/1155 [==============================] - 11s 10ms/step - loss: 0.1171 - acc: 0.9489\n",
      "Epoch 128/130\n",
      "1155/1155 [==============================] - 11s 10ms/step - loss: 0.0857 - acc: 0.9567\n",
      "Epoch 129/130\n",
      "1155/1155 [==============================] - 11s 10ms/step - loss: 0.0990 - acc: 0.9550\n",
      "Epoch 130/130\n",
      "1155/1155 [==============================] - 11s 10ms/step - loss: 0.0981 - acc: 0.9610\n"
     ]
    },
    {
     "data": {
      "text/plain": [
       "<keras.callbacks.History at 0x7f1f1c0c15f8>"
      ]
     },
     "execution_count": 12,
     "metadata": {},
     "output_type": "execute_result"
    }
   ],
   "source": [
    "#training the model, time for witchcraft\n",
    "model = model(X[0].shape)\n",
    "\n",
    "model.compile(optimizer='adam',loss='binary_crossentropy',metrics=[\"accuracy\"])\n",
    "\n",
    "model.fit(x = X_train, y = Y_train, epochs = 130, batch_size = 8,verbose=1)"
   ]
  },
  {
   "cell_type": "code",
   "execution_count": 15,
   "metadata": {},
   "outputs": [
    {
     "name": "stdout",
     "output_type": "stream",
     "text": [
      "165/165 [==============================] - 0s 1ms/step\n",
      "\n",
      "Loss = 2.29252923041\n",
      "Acc = 0.539393939575\n"
     ]
    }
   ],
   "source": [
    "preds = model.evaluate(x = X_test, y = Y_test)\n",
    "print()\n",
    "print(\"Loss = \" + str(preds[0]))\n",
    "print(\"Acc = \" + str(preds[1]))"
   ]
  },
  {
   "cell_type": "code",
   "execution_count": 14,
   "metadata": {},
   "outputs": [
    {
     "data": {
      "text/plain": [
       "<matplotlib.axes._subplots.AxesSubplot at 0x7f1f19a96e80>"
      ]
     },
     "execution_count": 14,
     "metadata": {},
     "output_type": "execute_result"
    },
    {
     "data": {
      "image/png": "[encoded data removed]",
      "text/plain": [
       "<matplotlib.figure.Figure at 0x7f1f1d552320>"
      ]
     },
     "metadata": {},
     "output_type": "display_data"
    }
   ],
   "source": [
    "data['Mid'].plot()\n"
   ]
  },
  {
   "cell_type": "code",
   "execution_count": null,
   "metadata": {},
   "outputs": [],
   "source": []
  }
 ],
 "metadata": {
  "kernelspec": {
   "display_name": "Python 3",
   "language": "python",
   "name": "python3"
  },
  "language_info": {
   "codemirror_mode": {
    "name": "ipython",
    "version": 3
   },
   "file_extension": ".py",
   "mimetype": "text/x-python",
   "name": "python",
   "nbconvert_exporter": "python",
   "pygments_lexer": "ipython3",
   "version": "3.6.3"
  }
 },
 "nbformat": 4,
 "nbformat_minor": 2
}
