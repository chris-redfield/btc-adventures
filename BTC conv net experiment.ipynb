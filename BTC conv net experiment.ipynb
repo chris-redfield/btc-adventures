{
 "cells": [
  {
   "cell_type": "code",
   "execution_count": 1,
   "metadata": {},
   "outputs": [
    {
     "name": "stderr",
     "output_type": "stream",
     "text": [
      "Using TensorFlow backend.\n"
     ]
    }
   ],
   "source": [
    "import keras\n",
    "import quandl\n",
    "import numpy as np\n",
    "\n",
    "from keras import layers\n",
    "from keras.layers import Input, Dense, Activation, ZeroPadding2D, BatchNormalization, Flatten, Conv2D\n",
    "from keras.layers import AveragePooling2D, MaxPooling2D, Dropout, GlobalMaxPooling2D, GlobalAveragePooling2D\n",
    "from keras.models import Model\n",
    "from keras.preprocessing import image\n",
    "from keras.utils import layer_utils\n",
    "from keras.utils.data_utils import get_file\n",
    "from keras.applications.imagenet_utils import preprocess_input\n",
    "\n",
    "import keras.backend as K\n",
    "from sklearn.model_selection import KFold\n",
    "\n",
    "%matplotlib inline"
   ]
  },
  {
   "cell_type": "code",
   "execution_count": 2,
   "metadata": {},
   "outputs": [],
   "source": [
    "#data = quandl.get('BCHARTS/BITFINEXUSD') -> OLD BUGGY DATASET (OBD)\n",
    "#data = quandl.get('BITFINEX/BTCUSD')\n",
    "data = quandl.get('BITFINEX/XRPBTC')\n",
    "#data = quandl.get('BITFINEX/ETHBTC')"
   ]
  },
  {
   "cell_type": "code",
   "execution_count": 3,
   "metadata": {},
   "outputs": [
    {
     "data": {
      "text/html": [
       "<div>\n",
       "<table border=\"1\" class=\"dataframe\">\n",
       "  <thead>\n",
       "    <tr style=\"text-align: right;\">\n",
       "      <th></th>\n",
       "      <th>High</th>\n",
       "      <th>Low</th>\n",
       "      <th>Mid</th>\n",
       "      <th>Last</th>\n",
       "      <th>Bid</th>\n",
       "      <th>Ask</th>\n",
       "      <th>Volume</th>\n",
       "    </tr>\n",
       "    <tr>\n",
       "      <th>Date</th>\n",
       "      <th></th>\n",
       "      <th></th>\n",
       "      <th></th>\n",
       "      <th></th>\n",
       "      <th></th>\n",
       "      <th></th>\n",
       "      <th></th>\n",
       "    </tr>\n",
       "  </thead>\n",
       "  <tbody>\n",
       "    <tr>\n",
       "      <th>2017-05-19</th>\n",
       "      <td>0.000200</td>\n",
       "      <td>0.000130</td>\n",
       "      <td>0.000164</td>\n",
       "      <td>0.000169</td>\n",
       "      <td>0.000159</td>\n",
       "      <td>0.000169</td>\n",
       "      <td>1.133802e+06</td>\n",
       "    </tr>\n",
       "    <tr>\n",
       "      <th>2017-05-20</th>\n",
       "      <td>0.000189</td>\n",
       "      <td>0.000147</td>\n",
       "      <td>0.000168</td>\n",
       "      <td>0.000168</td>\n",
       "      <td>0.000167</td>\n",
       "      <td>0.000169</td>\n",
       "      <td>4.924474e+06</td>\n",
       "    </tr>\n",
       "    <tr>\n",
       "      <th>2017-05-21</th>\n",
       "      <td>0.000178</td>\n",
       "      <td>0.000160</td>\n",
       "      <td>0.000163</td>\n",
       "      <td>0.000164</td>\n",
       "      <td>0.000162</td>\n",
       "      <td>0.000163</td>\n",
       "      <td>3.390939e+06</td>\n",
       "    </tr>\n",
       "    <tr>\n",
       "      <th>2017-05-22</th>\n",
       "      <td>0.000165</td>\n",
       "      <td>0.000115</td>\n",
       "      <td>0.000141</td>\n",
       "      <td>0.000141</td>\n",
       "      <td>0.000140</td>\n",
       "      <td>0.000141</td>\n",
       "      <td>8.063178e+06</td>\n",
       "    </tr>\n",
       "    <tr>\n",
       "      <th>2017-05-23</th>\n",
       "      <td>0.000159</td>\n",
       "      <td>0.000130</td>\n",
       "      <td>0.000145</td>\n",
       "      <td>0.000144</td>\n",
       "      <td>0.000143</td>\n",
       "      <td>0.000146</td>\n",
       "      <td>2.929714e+06</td>\n",
       "    </tr>\n",
       "  </tbody>\n",
       "</table>\n",
       "</div>"
      ],
      "text/plain": [
       "                High       Low       Mid      Last       Bid       Ask  \\\n",
       "Date                                                                     \n",
       "2017-05-19  0.000200  0.000130  0.000164  0.000169  0.000159  0.000169   \n",
       "2017-05-20  0.000189  0.000147  0.000168  0.000168  0.000167  0.000169   \n",
       "2017-05-21  0.000178  0.000160  0.000163  0.000164  0.000162  0.000163   \n",
       "2017-05-22  0.000165  0.000115  0.000141  0.000141  0.000140  0.000141   \n",
       "2017-05-23  0.000159  0.000130  0.000145  0.000144  0.000143  0.000146   \n",
       "\n",
       "                  Volume  \n",
       "Date                      \n",
       "2017-05-19  1.133802e+06  \n",
       "2017-05-20  4.924474e+06  \n",
       "2017-05-21  3.390939e+06  \n",
       "2017-05-22  8.063178e+06  \n",
       "2017-05-23  2.929714e+06  "
      ]
     },
     "execution_count": 3,
     "metadata": {},
     "output_type": "execute_result"
    }
   ],
   "source": [
    "data.head()"
   ]
  },
  {
   "cell_type": "code",
   "execution_count": 4,
   "metadata": {},
   "outputs": [
    {
     "name": "stdout",
     "output_type": "stream",
     "text": [
      "data shape before embedding: (237, 7)\n",
      "data shape after embedding: (222, 15, 7)\n"
     ]
    }
   ],
   "source": [
    "print(\"data shape before embedding:\",data.shape)\n",
    "\n",
    "mean = data.mean(axis=0)\n",
    "std = data.std(axis=0)\n",
    "\n",
    "# zscore normalization\n",
    "data = ( data - mean ) / std\n",
    "\n",
    "# # of days past we want skynet to see\n",
    "d = 15\n",
    "\n",
    "X = np.zeros((data.shape[0],d,data.shape[1]))\n",
    "\n",
    "# embedding d days in each DP (deslocamento)\n",
    "for i in range(d,data.shape[0]):\n",
    "    X[i,:,:] = data.iloc[i-d:i].values\n",
    "\n",
    "#removing first d lines, this ones didn't have d days past\n",
    "X = X[d:,:,:]\n",
    "\n",
    "print(\"data shape after embedding:\",X.shape)"
   ]
  },
  {
   "cell_type": "code",
   "execution_count": 5,
   "metadata": {},
   "outputs": [
    {
     "data": {
      "text/plain": [
       "(237,)"
      ]
     },
     "execution_count": 5,
     "metadata": {},
     "output_type": "execute_result"
    }
   ],
   "source": [
    "# creating labels\n",
    "Y = data['Mid'] - data.shift(1)['Mid']\n",
    "\n",
    "Y = Y > 0\n",
    "\n",
    "Y.shape"
   ]
  },
  {
   "cell_type": "code",
   "execution_count": 6,
   "metadata": {},
   "outputs": [],
   "source": [
    "#removing first line: second label refers to first DP ($$ delta)\n",
    "Y = Y[1:]\n",
    "\n",
    "#removing first d days because of the embedding\n",
    "Y = Y[d:]"
   ]
  },
  {
   "cell_type": "code",
   "execution_count": 7,
   "metadata": {},
   "outputs": [],
   "source": [
    "#removing last registry from X, since we had to remove first DP from Y\n",
    "#specifying other dimensions for good practices - TY @lucasosouza\n",
    "X = X[: -1,:,:]"
   ]
  },
  {
   "cell_type": "code",
   "execution_count": 8,
   "metadata": {},
   "outputs": [
    {
     "data": {
      "text/plain": [
       "((221,), (221, 15, 7))"
      ]
     },
     "execution_count": 8,
     "metadata": {},
     "output_type": "execute_result"
    }
   ],
   "source": [
    "# checking shapes\n",
    "Y.shape, X.shape"
   ]
  },
  {
   "cell_type": "code",
   "execution_count": 9,
   "metadata": {},
   "outputs": [
    {
     "data": {
      "text/plain": [
       "(221, 15, 7, 1)"
      ]
     },
     "execution_count": 9,
     "metadata": {},
     "output_type": "execute_result"
    }
   ],
   "source": [
    "# Adding channel layer, as expected by the convnet\n",
    "X = X.reshape((Y.shape[0],d,7,1))\n",
    "X.shape"
   ]
  },
  {
   "cell_type": "code",
   "execution_count": 10,
   "metadata": {},
   "outputs": [],
   "source": [
    "# train / test split\n",
    "#X_train = X[:-300,:,:,:]\n",
    "#X_test = X[-300:,:,:,:]\n",
    "#Y_train = Y[:-300]\n",
    "#Y_test = Y[-300:]\n",
    "\n",
    "# split dat data \n",
    "kf = KFold(n_splits=8,shuffle=True,random_state=0)\n",
    "for train_index, test_index in kf.split(X):\n",
    "    X_train, X_test = X[train_index], X[test_index]\n",
    "    Y_train, Y_test = Y[train_index], Y[test_index]\n",
    "    #print(\"TRAIN:\", train_index, \"TEST:\", test_index)"
   ]
  },
  {
   "cell_type": "code",
   "execution_count": 11,
   "metadata": {},
   "outputs": [],
   "source": [
    "def model(input_shape):\n",
    "    \n",
    "    X_input = Input(input_shape)\n",
    "    \n",
    "    #padding same so we dont lose size\n",
    "    X = Conv2D(32,(3,3), strides=(1,1),name=\"conv0\", padding=\"same\")(X_input)\n",
    "    X = BatchNormalization(axis=3,name='bn0')(X)\n",
    "    X = Activation('relu')(X)\n",
    "\n",
    "    #X = MaxPooling2D((2,2),name='max_pool0')(X)\n",
    "    \n",
    "    #Second conv\n",
    "    X = Conv2D(64,(2,2), strides=(1,1),name=\"conv1\", padding=\"same\")(X)\n",
    "    X = BatchNormalization(axis=3,name='bn1')(X)\n",
    "    X = Activation('relu')(X)\n",
    "\n",
    "    #X = MaxPooling2D((2,2),name='max_pool1')(X)\n",
    "    \n",
    "    #Third conv\n",
    "    X = Conv2D(128,(1,1), strides=(1,1),name=\"conv2\", padding=\"same\")(X)\n",
    "    X = BatchNormalization(axis=3,name='bn2')(X)\n",
    "    X = Activation('relu')(X)\n",
    "    \n",
    "    #fcs\n",
    "    X = Flatten()(X)\n",
    "    X = Dense(128,activation=\"relu\")(X)\n",
    "    X = Dropout(rate=0.3, seed=0)(X)\n",
    "    X = Dense(64,activation=\"relu\")(X)\n",
    "    #X = Dropout(rate=0.3, seed=0)(X)\n",
    "    X = Dense(32,activation=\"relu\")(X)\n",
    "    #X = Dropout(rate=0.3, seed=0)(X)\n",
    "    X = Dense(1,activation=\"sigmoid\")(X)\n",
    "    \n",
    "    model = Model(inputs=X_input,outputs=X, name=\"model1\")\n",
    "    \n",
    "    return model"
   ]
  },
  {
   "cell_type": "code",
   "execution_count": 12,
   "metadata": {},
   "outputs": [
    {
     "name": "stdout",
     "output_type": "stream",
     "text": [
      "Epoch 1/130\n",
      "194/194 [==============================] - 2s 9ms/step - loss: 1.3019 - acc: 0.5052\n",
      "Epoch 2/130\n",
      "194/194 [==============================] - 1s 6ms/step - loss: 1.2562 - acc: 0.4588\n",
      "Epoch 3/130\n",
      "194/194 [==============================] - 1s 6ms/step - loss: 0.8506 - acc: 0.5464\n",
      "Epoch 4/130\n",
      "194/194 [==============================] - 1s 7ms/step - loss: 0.8271 - acc: 0.5361\n",
      "Epoch 5/130\n",
      "194/194 [==============================] - 1s 7ms/step - loss: 0.7500 - acc: 0.5309\n",
      "Epoch 6/130\n",
      "194/194 [==============================] - 1s 6ms/step - loss: 0.7287 - acc: 0.5979\n",
      "Epoch 7/130\n",
      "194/194 [==============================] - 1s 7ms/step - loss: 0.6766 - acc: 0.6546\n",
      "Epoch 8/130\n",
      "194/194 [==============================] - 1s 7ms/step - loss: 0.7050 - acc: 0.5619\n",
      "Epoch 9/130\n",
      "194/194 [==============================] - 1s 6ms/step - loss: 0.6871 - acc: 0.5928\n",
      "Epoch 10/130\n",
      "194/194 [==============================] - 1s 7ms/step - loss: 0.7350 - acc: 0.6082\n",
      "Epoch 11/130\n",
      "194/194 [==============================] - 1s 8ms/step - loss: 0.6285 - acc: 0.6134\n",
      "Epoch 12/130\n",
      "194/194 [==============================] - 1s 7ms/step - loss: 0.6393 - acc: 0.6031\n",
      "Epoch 13/130\n",
      "194/194 [==============================] - 1s 8ms/step - loss: 0.6516 - acc: 0.6237\n",
      "Epoch 14/130\n",
      "194/194 [==============================] - 2s 8ms/step - loss: 0.6587 - acc: 0.5876\n",
      "Epoch 15/130\n",
      "194/194 [==============================] - 1s 7ms/step - loss: 0.6584 - acc: 0.5670\n",
      "Epoch 16/130\n",
      "194/194 [==============================] - 1s 7ms/step - loss: 0.6088 - acc: 0.6186\n",
      "Epoch 17/130\n",
      "194/194 [==============================] - 1s 7ms/step - loss: 0.5773 - acc: 0.6443\n",
      "Epoch 18/130\n",
      "194/194 [==============================] - 1s 7ms/step - loss: 0.6017 - acc: 0.6753\n",
      "Epoch 19/130\n",
      "194/194 [==============================] - 1s 7ms/step - loss: 0.5515 - acc: 0.6753\n",
      "Epoch 20/130\n",
      "194/194 [==============================] - 1s 6ms/step - loss: 0.5657 - acc: 0.6340\n",
      "Epoch 21/130\n",
      "194/194 [==============================] - 1s 6ms/step - loss: 0.5317 - acc: 0.7113\n",
      "Epoch 22/130\n",
      "194/194 [==============================] - 1s 8ms/step - loss: 0.5290 - acc: 0.7268\n",
      "Epoch 23/130\n",
      "194/194 [==============================] - 1s 7ms/step - loss: 0.5278 - acc: 0.6907\n",
      "Epoch 24/130\n",
      "194/194 [==============================] - 1s 7ms/step - loss: 0.4758 - acc: 0.7526\n",
      "Epoch 25/130\n",
      "194/194 [==============================] - 1s 7ms/step - loss: 0.4813 - acc: 0.7526\n",
      "Epoch 26/130\n",
      "194/194 [==============================] - 1s 8ms/step - loss: 0.5087 - acc: 0.7320\n",
      "Epoch 27/130\n",
      "194/194 [==============================] - 1s 7ms/step - loss: 0.4305 - acc: 0.7629\n",
      "Epoch 28/130\n",
      "194/194 [==============================] - 1s 8ms/step - loss: 0.4842 - acc: 0.7320\n",
      "Epoch 29/130\n",
      "194/194 [==============================] - 1s 7ms/step - loss: 0.5751 - acc: 0.7268\n",
      "Epoch 30/130\n",
      "194/194 [==============================] - 1s 7ms/step - loss: 0.4547 - acc: 0.7268\n",
      "Epoch 31/130\n",
      "194/194 [==============================] - 1s 7ms/step - loss: 0.4375 - acc: 0.7629\n",
      "Epoch 32/130\n",
      "194/194 [==============================] - 1s 7ms/step - loss: 0.4273 - acc: 0.7474\n",
      "Epoch 33/130\n",
      "194/194 [==============================] - 1s 7ms/step - loss: 0.4387 - acc: 0.7680\n",
      "Epoch 34/130\n",
      "194/194 [==============================] - 1s 7ms/step - loss: 0.4122 - acc: 0.7784\n",
      "Epoch 35/130\n",
      "194/194 [==============================] - 1s 7ms/step - loss: 0.4208 - acc: 0.7680\n",
      "Epoch 36/130\n",
      "194/194 [==============================] - 1s 8ms/step - loss: 0.3975 - acc: 0.7887\n",
      "Epoch 37/130\n",
      "194/194 [==============================] - 1s 7ms/step - loss: 0.3600 - acc: 0.7938\n",
      "Epoch 38/130\n",
      "194/194 [==============================] - 1s 7ms/step - loss: 0.3301 - acc: 0.8454\n",
      "Epoch 39/130\n",
      "194/194 [==============================] - 1s 6ms/step - loss: 0.3487 - acc: 0.8247\n",
      "Epoch 40/130\n",
      "194/194 [==============================] - 1s 7ms/step - loss: 0.3095 - acc: 0.8093\n",
      "Epoch 41/130\n",
      "194/194 [==============================] - 1s 7ms/step - loss: 0.3223 - acc: 0.8454\n",
      "Epoch 42/130\n",
      "194/194 [==============================] - 1s 7ms/step - loss: 0.3224 - acc: 0.8299\n",
      "Epoch 43/130\n",
      "194/194 [==============================] - 1s 7ms/step - loss: 0.3004 - acc: 0.8299\n",
      "Epoch 44/130\n",
      "194/194 [==============================] - 1s 7ms/step - loss: 0.2986 - acc: 0.8247\n",
      "Epoch 45/130\n",
      "194/194 [==============================] - 1s 7ms/step - loss: 0.2644 - acc: 0.8608\n",
      "Epoch 46/130\n",
      "194/194 [==============================] - 1s 8ms/step - loss: 0.2558 - acc: 0.8660\n",
      "Epoch 47/130\n",
      "194/194 [==============================] - 1s 8ms/step - loss: 0.2867 - acc: 0.8608\n",
      "Epoch 48/130\n",
      "194/194 [==============================] - 2s 8ms/step - loss: 0.3067 - acc: 0.8660\n",
      "Epoch 49/130\n",
      "194/194 [==============================] - 2s 8ms/step - loss: 0.2725 - acc: 0.8557\n",
      "Epoch 50/130\n",
      "194/194 [==============================] - 1s 7ms/step - loss: 0.3231 - acc: 0.8454\n",
      "Epoch 51/130\n",
      "194/194 [==============================] - 2s 9ms/step - loss: 0.2720 - acc: 0.8557\n",
      "Epoch 52/130\n",
      "194/194 [==============================] - 2s 8ms/step - loss: 0.2550 - acc: 0.8454\n",
      "Epoch 53/130\n",
      "194/194 [==============================] - 1s 7ms/step - loss: 0.2096 - acc: 0.9021\n",
      "Epoch 54/130\n",
      "194/194 [==============================] - 1s 7ms/step - loss: 0.2779 - acc: 0.8351\n",
      "Epoch 55/130\n",
      "194/194 [==============================] - 1s 7ms/step - loss: 0.2739 - acc: 0.8608\n",
      "Epoch 56/130\n",
      "194/194 [==============================] - 1s 7ms/step - loss: 0.1994 - acc: 0.8918\n",
      "Epoch 57/130\n",
      "194/194 [==============================] - 2s 8ms/step - loss: 0.1931 - acc: 0.9072\n",
      "Epoch 58/130\n",
      "194/194 [==============================] - 2s 8ms/step - loss: 0.1922 - acc: 0.8866A: 1s - loss: 0.2\n",
      "Epoch 59/130\n",
      "194/194 [==============================] - 1s 7ms/step - loss: 0.1595 - acc: 0.9175\n",
      "Epoch 60/130\n",
      "194/194 [==============================] - 1s 7ms/step - loss: 0.1446 - acc: 0.9227\n",
      "Epoch 61/130\n",
      "194/194 [==============================] - 1s 7ms/step - loss: 0.1611 - acc: 0.8969\n",
      "Epoch 62/130\n",
      "194/194 [==============================] - 1s 7ms/step - loss: 0.1600 - acc: 0.9227\n",
      "Epoch 63/130\n",
      "194/194 [==============================] - 1s 7ms/step - loss: 0.1066 - acc: 0.9536A: 0s - loss: 0.096\n",
      "Epoch 64/130\n",
      "194/194 [==============================] - 1s 7ms/step - loss: 0.1353 - acc: 0.9330\n",
      "Epoch 65/130\n",
      "194/194 [==============================] - 1s 7ms/step - loss: 0.1925 - acc: 0.9175\n",
      "Epoch 66/130\n",
      "194/194 [==============================] - 1s 7ms/step - loss: 0.2310 - acc: 0.8866\n",
      "Epoch 67/130\n",
      "194/194 [==============================] - 1s 7ms/step - loss: 0.1703 - acc: 0.8969A: 1s - loss: 0.13\n",
      "Epoch 68/130\n",
      "194/194 [==============================] - 1s 7ms/step - loss: 0.3046 - acc: 0.9021\n",
      "Epoch 69/130\n",
      "194/194 [==============================] - 1s 7ms/step - loss: 0.2628 - acc: 0.8505\n",
      "Epoch 70/130\n",
      "194/194 [==============================] - 1s 7ms/step - loss: 0.1950 - acc: 0.9072\n",
      "Epoch 71/130\n",
      "194/194 [==============================] - 1s 7ms/step - loss: 0.1781 - acc: 0.9278\n",
      "Epoch 72/130\n",
      "194/194 [==============================] - 2s 8ms/step - loss: 0.1639 - acc: 0.9175\n",
      "Epoch 73/130\n",
      "194/194 [==============================] - 1s 7ms/step - loss: 0.1882 - acc: 0.9175\n",
      "Epoch 74/130\n",
      "194/194 [==============================] - 2s 8ms/step - loss: 0.2383 - acc: 0.8763\n",
      "Epoch 75/130\n",
      "194/194 [==============================] - 2s 8ms/step - loss: 0.1994 - acc: 0.9227\n",
      "Epoch 76/130\n",
      "194/194 [==============================] - 1s 7ms/step - loss: 0.1341 - acc: 0.9485\n",
      "Epoch 77/130\n",
      "194/194 [==============================] - 2s 8ms/step - loss: 0.1214 - acc: 0.9485\n",
      "Epoch 78/130\n",
      "194/194 [==============================] - 2s 8ms/step - loss: 0.1139 - acc: 0.9536\n",
      "Epoch 79/130\n",
      "194/194 [==============================] - 1s 7ms/step - loss: 0.0814 - acc: 0.9588\n",
      "Epoch 80/130\n",
      "194/194 [==============================] - 1s 7ms/step - loss: 0.1157 - acc: 0.9485\n",
      "Epoch 81/130\n",
      "194/194 [==============================] - 1s 7ms/step - loss: 0.1393 - acc: 0.9175\n",
      "Epoch 82/130\n",
      "194/194 [==============================] - 1s 8ms/step - loss: 0.1369 - acc: 0.9588\n",
      "Epoch 83/130\n",
      "194/194 [==============================] - 1s 8ms/step - loss: 0.0803 - acc: 0.9639\n",
      "Epoch 84/130\n",
      "194/194 [==============================] - 1s 7ms/step - loss: 0.0973 - acc: 0.9485\n"
     ]
    },
    {
     "name": "stdout",
     "output_type": "stream",
     "text": [
      "Epoch 85/130\n",
      "194/194 [==============================] - 1s 8ms/step - loss: 0.2677 - acc: 0.9278\n",
      "Epoch 86/130\n",
      "194/194 [==============================] - 1s 7ms/step - loss: 0.1527 - acc: 0.9381\n",
      "Epoch 87/130\n",
      "194/194 [==============================] - 1s 7ms/step - loss: 0.0919 - acc: 0.9433\n",
      "Epoch 88/130\n",
      "194/194 [==============================] - 1s 7ms/step - loss: 0.2283 - acc: 0.9278\n",
      "Epoch 89/130\n",
      "194/194 [==============================] - 1s 7ms/step - loss: 0.2206 - acc: 0.9278\n",
      "Epoch 90/130\n",
      "194/194 [==============================] - 1s 6ms/step - loss: 0.1310 - acc: 0.9330\n",
      "Epoch 91/130\n",
      "194/194 [==============================] - 1s 6ms/step - loss: 0.1004 - acc: 0.9433\n",
      "Epoch 92/130\n",
      "194/194 [==============================] - 1s 8ms/step - loss: 0.1273 - acc: 0.9536\n",
      "Epoch 93/130\n",
      "194/194 [==============================] - 1s 6ms/step - loss: 0.1246 - acc: 0.9433\n",
      "Epoch 94/130\n",
      "194/194 [==============================] - 1s 6ms/step - loss: 0.1071 - acc: 0.9433\n",
      "Epoch 95/130\n",
      "194/194 [==============================] - 1s 7ms/step - loss: 0.0619 - acc: 0.9897\n",
      "Epoch 96/130\n",
      "194/194 [==============================] - 2s 8ms/step - loss: 0.0813 - acc: 0.9691\n",
      "Epoch 97/130\n",
      "194/194 [==============================] - 1s 7ms/step - loss: 0.1523 - acc: 0.9691\n",
      "Epoch 98/130\n",
      "194/194 [==============================] - 1s 6ms/step - loss: 0.0679 - acc: 0.9691\n",
      "Epoch 99/130\n",
      "194/194 [==============================] - 1s 8ms/step - loss: 0.1055 - acc: 0.9536\n",
      "Epoch 100/130\n",
      "194/194 [==============================] - 1s 8ms/step - loss: 0.0860 - acc: 0.9536\n",
      "Epoch 101/130\n",
      "194/194 [==============================] - 1s 6ms/step - loss: 0.1393 - acc: 0.9381\n",
      "Epoch 102/130\n",
      "194/194 [==============================] - 1s 7ms/step - loss: 0.1318 - acc: 0.9536\n",
      "Epoch 103/130\n",
      "194/194 [==============================] - 2s 8ms/step - loss: 0.0607 - acc: 0.9794\n",
      "Epoch 104/130\n",
      "194/194 [==============================] - 2s 8ms/step - loss: 0.0686 - acc: 0.9742\n",
      "Epoch 105/130\n",
      "194/194 [==============================] - 1s 7ms/step - loss: 0.0753 - acc: 0.9639\n",
      "Epoch 106/130\n",
      "194/194 [==============================] - 1s 7ms/step - loss: 0.0456 - acc: 0.9845\n",
      "Epoch 107/130\n",
      "194/194 [==============================] - 2s 8ms/step - loss: 0.1041 - acc: 0.9691\n",
      "Epoch 108/130\n",
      "194/194 [==============================] - 2s 8ms/step - loss: 0.1594 - acc: 0.9485\n",
      "Epoch 109/130\n",
      "194/194 [==============================] - 1s 8ms/step - loss: 0.1627 - acc: 0.9021\n",
      "Epoch 110/130\n",
      "194/194 [==============================] - 2s 8ms/step - loss: 0.1643 - acc: 0.9278\n",
      "Epoch 111/130\n",
      "194/194 [==============================] - 1s 8ms/step - loss: 0.1192 - acc: 0.9536\n",
      "Epoch 112/130\n",
      "194/194 [==============================] - 1s 7ms/step - loss: 0.0618 - acc: 0.9691\n",
      "Epoch 113/130\n",
      "194/194 [==============================] - 1s 7ms/step - loss: 0.0745 - acc: 0.9794\n",
      "Epoch 114/130\n",
      "194/194 [==============================] - 1s 7ms/step - loss: 0.1231 - acc: 0.9742\n",
      "Epoch 115/130\n",
      "194/194 [==============================] - 1s 7ms/step - loss: 0.0758 - acc: 0.9691\n",
      "Epoch 116/130\n",
      "194/194 [==============================] - 1s 7ms/step - loss: 0.0525 - acc: 0.9794\n",
      "Epoch 117/130\n",
      "194/194 [==============================] - 1s 8ms/step - loss: 0.0387 - acc: 0.9845\n",
      "Epoch 118/130\n",
      "194/194 [==============================] - 2s 8ms/step - loss: 0.0526 - acc: 0.9742\n",
      "Epoch 119/130\n",
      "194/194 [==============================] - 1s 7ms/step - loss: 0.0530 - acc: 0.9691\n",
      "Epoch 120/130\n",
      "194/194 [==============================] - 2s 8ms/step - loss: 0.1555 - acc: 0.9433A: 0s - loss: 0.1665 - acc: 0\n",
      "Epoch 121/130\n",
      "194/194 [==============================] - 2s 8ms/step - loss: 0.1854 - acc: 0.9278\n",
      "Epoch 122/130\n",
      "194/194 [==============================] - 1s 7ms/step - loss: 0.0944 - acc: 0.9639\n",
      "Epoch 123/130\n",
      "194/194 [==============================] - 2s 8ms/step - loss: 0.1341 - acc: 0.9588\n",
      "Epoch 124/130\n",
      "194/194 [==============================] - 2s 8ms/step - loss: 0.0773 - acc: 0.9742\n",
      "Epoch 125/130\n",
      "194/194 [==============================] - 1s 7ms/step - loss: 0.0913 - acc: 0.9639\n",
      "Epoch 126/130\n",
      "194/194 [==============================] - 1s 7ms/step - loss: 0.0948 - acc: 0.9742\n",
      "Epoch 127/130\n",
      "194/194 [==============================] - 2s 8ms/step - loss: 0.0631 - acc: 0.9794\n",
      "Epoch 128/130\n",
      "194/194 [==============================] - 1s 8ms/step - loss: 0.0393 - acc: 0.9845\n",
      "Epoch 129/130\n",
      "194/194 [==============================] - 1s 7ms/step - loss: 0.0416 - acc: 0.9897\n",
      "Epoch 130/130\n",
      "194/194 [==============================] - 1s 7ms/step - loss: 0.0684 - acc: 0.9691\n"
     ]
    },
    {
     "data": {
      "text/plain": [
       "<keras.callbacks.History at 0x7f822382d320>"
      ]
     },
     "execution_count": 12,
     "metadata": {},
     "output_type": "execute_result"
    }
   ],
   "source": [
    "#training the model, time for witchcraft\n",
    "model = model(X[0].shape)\n",
    "\n",
    "model.compile(optimizer='adam',loss='binary_crossentropy',metrics=[\"accuracy\"])\n",
    "\n",
    "model.fit(x = X_train, y = Y_train, epochs = 130, batch_size = 8,verbose=1)"
   ]
  },
  {
   "cell_type": "code",
   "execution_count": 13,
   "metadata": {},
   "outputs": [
    {
     "name": "stdout",
     "output_type": "stream",
     "text": [
      "27/27 [==============================] - 0s 3ms/step\n",
      "\n",
      "Loss = 3.71977376938\n",
      "Acc = 0.629629611969\n"
     ]
    }
   ],
   "source": [
    "preds = model.evaluate(x = X_test, y = Y_test)\n",
    "print()\n",
    "print(\"Loss = \" + str(preds[0]))\n",
    "print(\"Acc = \" + str(preds[1]))"
   ]
  },
  {
   "cell_type": "code",
   "execution_count": 14,
   "metadata": {},
   "outputs": [
    {
     "data": {
      "text/plain": [
       "<matplotlib.axes._subplots.AxesSubplot at 0x7f8220a30898>"
      ]
     },
     "execution_count": 14,
     "metadata": {},
     "output_type": "execute_result"
    },
    {
     "data": {
      "image/png": "[encoded data removed]",
      "text/plain": [
       "<matplotlib.figure.Figure at 0x7f8224c491d0>"
      ]
     },
     "metadata": {},
     "output_type": "display_data"
    }
   ],
   "source": [
    "data['Mid'].plot()\n"
   ]
  },
  {
   "cell_type": "code",
   "execution_count": null,
   "metadata": {},
   "outputs": [],
   "source": []
  }
 ],
 "metadata": {
  "kernelspec": {
   "display_name": "Python 3",
   "language": "python",
   "name": "python3"
  },
  "language_info": {
   "codemirror_mode": {
    "name": "ipython",
    "version": 3
   },
   "file_extension": ".py",
   "mimetype": "text/x-python",
   "name": "python",
   "nbconvert_exporter": "python",
   "pygments_lexer": "ipython3",
   "version": "3.6.3"
  }
 },
 "nbformat": 4,
 "nbformat_minor": 2
}
