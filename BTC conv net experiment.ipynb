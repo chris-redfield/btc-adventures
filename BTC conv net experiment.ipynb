{
 "cells": [
  {
   "cell_type": "code",
   "execution_count": 1,
   "metadata": {},
   "outputs": [
    {
     "name": "stderr",
     "output_type": "stream",
     "text": [
      "Using TensorFlow backend.\n"
     ]
    }
   ],
   "source": [
    "import keras\n",
    "import quandl\n",
    "import numpy as np\n",
    "\n",
    "from keras import layers\n",
    "from keras.layers import Input, Dense, Activation, ZeroPadding2D, BatchNormalization, Flatten, Conv2D\n",
    "from keras.layers import AveragePooling2D, MaxPooling2D, Dropout, GlobalMaxPooling2D, GlobalAveragePooling2D\n",
    "from keras.models import Model\n",
    "from keras.preprocessing import image\n",
    "from keras.utils import layer_utils\n",
    "from keras.utils.data_utils import get_file\n",
    "from keras.applications.imagenet_utils import preprocess_input\n",
    "from keras.regularizers import l2\n",
    "\n",
    "import keras.backend as K\n",
    "from sklearn.model_selection import KFold\n",
    "\n",
    "%matplotlib inline"
   ]
  },
  {
   "cell_type": "code",
   "execution_count": 2,
   "metadata": {},
   "outputs": [],
   "source": [
    "#data = quandl.get('BCHARTS/BITFINEXUSD') -> OLD BUGGY DATASET (OBD)\n",
    "#data = quandl.get('BITFINEX/BTCUSD')\n",
    "data = quandl.get('BITFINEX/XRPBTC')\n",
    "#data = quandl.get('BITFINEX/ETHBTC')"
   ]
  },
  {
   "cell_type": "code",
   "execution_count": 3,
   "metadata": {},
   "outputs": [
    {
     "data": {
      "text/html": [
       "<div>\n",
       "<table border=\"1\" class=\"dataframe\">\n",
       "  <thead>\n",
       "    <tr style=\"text-align: right;\">\n",
       "      <th></th>\n",
       "      <th>High</th>\n",
       "      <th>Low</th>\n",
       "      <th>Mid</th>\n",
       "      <th>Last</th>\n",
       "      <th>Bid</th>\n",
       "      <th>Ask</th>\n",
       "      <th>Volume</th>\n",
       "    </tr>\n",
       "    <tr>\n",
       "      <th>Date</th>\n",
       "      <th></th>\n",
       "      <th></th>\n",
       "      <th></th>\n",
       "      <th></th>\n",
       "      <th></th>\n",
       "      <th></th>\n",
       "      <th></th>\n",
       "    </tr>\n",
       "  </thead>\n",
       "  <tbody>\n",
       "    <tr>\n",
       "      <th>2017-05-19</th>\n",
       "      <td>0.000200</td>\n",
       "      <td>0.000130</td>\n",
       "      <td>0.000164</td>\n",
       "      <td>0.000169</td>\n",
       "      <td>0.000159</td>\n",
       "      <td>0.000169</td>\n",
       "      <td>1.133802e+06</td>\n",
       "    </tr>\n",
       "    <tr>\n",
       "      <th>2017-05-20</th>\n",
       "      <td>0.000189</td>\n",
       "      <td>0.000147</td>\n",
       "      <td>0.000168</td>\n",
       "      <td>0.000168</td>\n",
       "      <td>0.000167</td>\n",
       "      <td>0.000169</td>\n",
       "      <td>4.924474e+06</td>\n",
       "    </tr>\n",
       "    <tr>\n",
       "      <th>2017-05-21</th>\n",
       "      <td>0.000178</td>\n",
       "      <td>0.000160</td>\n",
       "      <td>0.000163</td>\n",
       "      <td>0.000164</td>\n",
       "      <td>0.000162</td>\n",
       "      <td>0.000163</td>\n",
       "      <td>3.390939e+06</td>\n",
       "    </tr>\n",
       "    <tr>\n",
       "      <th>2017-05-22</th>\n",
       "      <td>0.000165</td>\n",
       "      <td>0.000115</td>\n",
       "      <td>0.000141</td>\n",
       "      <td>0.000141</td>\n",
       "      <td>0.000140</td>\n",
       "      <td>0.000141</td>\n",
       "      <td>8.063178e+06</td>\n",
       "    </tr>\n",
       "    <tr>\n",
       "      <th>2017-05-23</th>\n",
       "      <td>0.000159</td>\n",
       "      <td>0.000130</td>\n",
       "      <td>0.000145</td>\n",
       "      <td>0.000144</td>\n",
       "      <td>0.000143</td>\n",
       "      <td>0.000146</td>\n",
       "      <td>2.929714e+06</td>\n",
       "    </tr>\n",
       "  </tbody>\n",
       "</table>\n",
       "</div>"
      ],
      "text/plain": [
       "                High       Low       Mid      Last       Bid       Ask  \\\n",
       "Date                                                                     \n",
       "2017-05-19  0.000200  0.000130  0.000164  0.000169  0.000159  0.000169   \n",
       "2017-05-20  0.000189  0.000147  0.000168  0.000168  0.000167  0.000169   \n",
       "2017-05-21  0.000178  0.000160  0.000163  0.000164  0.000162  0.000163   \n",
       "2017-05-22  0.000165  0.000115  0.000141  0.000141  0.000140  0.000141   \n",
       "2017-05-23  0.000159  0.000130  0.000145  0.000144  0.000143  0.000146   \n",
       "\n",
       "                  Volume  \n",
       "Date                      \n",
       "2017-05-19  1.133802e+06  \n",
       "2017-05-20  4.924474e+06  \n",
       "2017-05-21  3.390939e+06  \n",
       "2017-05-22  8.063178e+06  \n",
       "2017-05-23  2.929714e+06  "
      ]
     },
     "execution_count": 3,
     "metadata": {},
     "output_type": "execute_result"
    }
   ],
   "source": [
    "data.head()"
   ]
  },
  {
   "cell_type": "code",
   "execution_count": 4,
   "metadata": {},
   "outputs": [
    {
     "name": "stdout",
     "output_type": "stream",
     "text": [
      "data shape before embedding: (238, 7)\n",
      "data shape after embedding: (223, 15, 7)\n"
     ]
    }
   ],
   "source": [
    "print(\"data shape before embedding:\",data.shape)\n",
    "\n",
    "mean = data.mean(axis=0)\n",
    "std = data.std(axis=0)\n",
    "\n",
    "# zscore normalization\n",
    "data = ( data - mean ) / std\n",
    "\n",
    "# # of days past we want skynet to see\n",
    "d = 15\n",
    "\n",
    "X = np.zeros((data.shape[0],d,data.shape[1]))\n",
    "\n",
    "# embedding d days in each DP (deslocamento)\n",
    "for i in range(d,data.shape[0]):\n",
    "    X[i,:,:] = data.iloc[i-d:i].values\n",
    "\n",
    "#removing first d lines, this ones didn't have d days past\n",
    "X = X[d:,:,:]\n",
    "\n",
    "print(\"data shape after embedding:\",X.shape)"
   ]
  },
  {
   "cell_type": "code",
   "execution_count": 5,
   "metadata": {},
   "outputs": [
    {
     "data": {
      "text/plain": [
       "(238,)"
      ]
     },
     "execution_count": 5,
     "metadata": {},
     "output_type": "execute_result"
    }
   ],
   "source": [
    "# creating labels\n",
    "Y = data['Mid'] - data.shift(1)['Mid']\n",
    "\n",
    "Y = Y > 0\n",
    "\n",
    "Y.shape"
   ]
  },
  {
   "cell_type": "code",
   "execution_count": 6,
   "metadata": {},
   "outputs": [],
   "source": [
    "#removing first line: second label refers to first DP ($$ delta)\n",
    "Y = Y[1:]\n",
    "\n",
    "#removing first d days because of the embedding\n",
    "Y = Y[d:]"
   ]
  },
  {
   "cell_type": "code",
   "execution_count": 7,
   "metadata": {},
   "outputs": [],
   "source": [
    "#removing last registry from X, since we had to remove first DP from Y\n",
    "#specifying other dimensions for good practices - TY @lucasosouza\n",
    "X = X[: -1,:,:]"
   ]
  },
  {
   "cell_type": "code",
   "execution_count": 8,
   "metadata": {},
   "outputs": [
    {
     "data": {
      "text/plain": [
       "((222,), (222, 15, 7))"
      ]
     },
     "execution_count": 8,
     "metadata": {},
     "output_type": "execute_result"
    }
   ],
   "source": [
    "# checking shapes\n",
    "Y.shape, X.shape"
   ]
  },
  {
   "cell_type": "code",
   "execution_count": 9,
   "metadata": {},
   "outputs": [
    {
     "data": {
      "text/plain": [
       "(222, 15, 7, 1)"
      ]
     },
     "execution_count": 9,
     "metadata": {},
     "output_type": "execute_result"
    }
   ],
   "source": [
    "# Adding channel layer, as expected by the convnet\n",
    "X = X.reshape((Y.shape[0],d,7,1))\n",
    "X.shape"
   ]
  },
  {
   "cell_type": "code",
   "execution_count": 10,
   "metadata": {},
   "outputs": [],
   "source": [
    "# train / test split\n",
    "#X_train = X[:-300,:,:,:]\n",
    "#X_test = X[-300:,:,:,:]\n",
    "#Y_train = Y[:-300]\n",
    "#Y_test = Y[-300:]\n",
    "\n",
    "# split dat data \n",
    "kf = KFold(n_splits=8,shuffle=True,random_state=0)\n",
    "for train_index, test_index in kf.split(X):\n",
    "    X_train, X_test = X[train_index], X[test_index]\n",
    "    Y_train, Y_test = Y[train_index], Y[test_index]\n",
    "    #print(\"TRAIN:\", train_index, \"TEST:\", test_index)"
   ]
  },
  {
   "cell_type": "code",
   "execution_count": 11,
   "metadata": {},
   "outputs": [],
   "source": [
    "def model(input_shape):\n",
    "    \n",
    "    X_input = Input(input_shape)\n",
    "    \n",
    "    #padding same so we dont lose size\n",
    "    X = Conv2D(32,(3,3), strides=(1,1),name=\"conv0\", padding=\"same\",kernel_regularizer=l2(0.0001))(X_input)\n",
    "    X = BatchNormalization(axis=3,name='bn0')(X)\n",
    "    X = Activation('relu')(X)\n",
    "\n",
    "    #X = MaxPooling2D((2,2),name='max_pool0')(X)\n",
    "    \n",
    "    #Second conv\n",
    "    X = Conv2D(64,(2,2), strides=(1,1),name=\"conv1\", padding=\"same\",kernel_regularizer=l2(0.0001))(X)\n",
    "    X = BatchNormalization(axis=3,name='bn1')(X)\n",
    "    X = Activation('relu')(X)\n",
    "\n",
    "    #X = MaxPooling2D((2,2),name='max_pool1')(X)\n",
    "    \n",
    "    #Third conv\n",
    "    X = Conv2D(128,(1,1), strides=(1,1),name=\"conv2\", padding=\"same\",kernel_regularizer=l2(0.0001))(X)\n",
    "    X = BatchNormalization(axis=3,name='bn2')(X)\n",
    "    X = Activation('relu')(X)\n",
    "    \n",
    "    #fcs\n",
    "    X = Flatten()(X)\n",
    "    X = Dense(128,activation=\"relu\")(X)\n",
    "    #X = Dropout(rate=0.3, seed=0)(X)\n",
    "    X = Dense(64,activation=\"relu\")(X)\n",
    "    #X = Dropout(rate=0.3, seed=0)(X)\n",
    "    X = Dense(32,activation=\"relu\")(X)\n",
    "    #X = Dropout(rate=0.3, seed=0)(X)\n",
    "    X = Dense(1,activation=\"sigmoid\")(X)\n",
    "    \n",
    "    model = Model(inputs=X_input,outputs=X, name=\"model1\")\n",
    "    \n",
    "    return model"
   ]
  },
  {
   "cell_type": "code",
   "execution_count": 12,
   "metadata": {},
   "outputs": [
    {
     "name": "stdout",
     "output_type": "stream",
     "text": [
      "Epoch 1/70\n",
      "195/195 [==============================] - 2s 11ms/step - loss: 1.6939 - acc: 0.5179\n",
      "Epoch 2/70\n",
      "195/195 [==============================] - 2s 8ms/step - loss: 0.8954 - acc: 0.5641\n",
      "Epoch 3/70\n",
      "195/195 [==============================] - 2s 8ms/step - loss: 0.9360 - acc: 0.5744\n",
      "Epoch 4/70\n",
      "195/195 [==============================] - 2s 8ms/step - loss: 0.7996 - acc: 0.5590\n",
      "Epoch 5/70\n",
      "195/195 [==============================] - 1s 8ms/step - loss: 0.7066 - acc: 0.6205\n",
      "Epoch 6/70\n",
      "195/195 [==============================] - 2s 8ms/step - loss: 0.6490 - acc: 0.6359\n",
      "Epoch 7/70\n",
      "195/195 [==============================] - 2s 10ms/step - loss: 0.7396 - acc: 0.6154\n",
      "Epoch 8/70\n",
      "195/195 [==============================] - 2s 9ms/step - loss: 0.6382 - acc: 0.6974\n",
      "Epoch 9/70\n",
      "195/195 [==============================] - 1s 8ms/step - loss: 0.5749 - acc: 0.6667\n",
      "Epoch 10/70\n",
      "195/195 [==============================] - 2s 8ms/step - loss: 0.5370 - acc: 0.7179\n",
      "Epoch 11/70\n",
      "195/195 [==============================] - 2s 9ms/step - loss: 0.4818 - acc: 0.7641\n",
      "Epoch 12/70\n",
      "195/195 [==============================] - 2s 9ms/step - loss: 0.5244 - acc: 0.7077\n",
      "Epoch 13/70\n",
      "195/195 [==============================] - 2s 11ms/step - loss: 0.4553 - acc: 0.7846: 1s - loss: \n",
      "Epoch 14/70\n",
      "195/195 [==============================] - 2s 10ms/step - loss: 0.4495 - acc: 0.8000\n",
      "Epoch 15/70\n",
      "195/195 [==============================] - 2s 8ms/step - loss: 0.4202 - acc: 0.8103\n",
      "Epoch 16/70\n",
      "195/195 [==============================] - 1s 7ms/step - loss: 0.3679 - acc: 0.8564\n",
      "Epoch 17/70\n",
      "195/195 [==============================] - 2s 8ms/step - loss: 0.4213 - acc: 0.8103\n",
      "Epoch 18/70\n",
      "195/195 [==============================] - 2s 8ms/step - loss: 0.3529 - acc: 0.8359\n",
      "Epoch 19/70\n",
      "195/195 [==============================] - 1s 7ms/step - loss: 0.3166 - acc: 0.8513\n",
      "Epoch 20/70\n",
      "195/195 [==============================] - 2s 8ms/step - loss: 0.2899 - acc: 0.8769\n",
      "Epoch 21/70\n",
      "195/195 [==============================] - 1s 7ms/step - loss: 0.2879 - acc: 0.8667\n",
      "Epoch 22/70\n",
      "195/195 [==============================] - 1s 8ms/step - loss: 0.2833 - acc: 0.8872\n",
      "Epoch 23/70\n",
      "195/195 [==============================] - 1s 7ms/step - loss: 0.2352 - acc: 0.9282\n",
      "Epoch 24/70\n",
      "195/195 [==============================] - 1s 7ms/step - loss: 0.1808 - acc: 0.9282\n",
      "Epoch 25/70\n",
      "195/195 [==============================] - 1s 7ms/step - loss: 0.1638 - acc: 0.9538\n",
      "Epoch 26/70\n",
      "195/195 [==============================] - 1s 7ms/step - loss: 0.1431 - acc: 0.9641\n",
      "Epoch 27/70\n",
      "195/195 [==============================] - 2s 8ms/step - loss: 0.2539 - acc: 0.8872\n",
      "Epoch 28/70\n",
      "195/195 [==============================] - 2s 9ms/step - loss: 0.2129 - acc: 0.9282\n",
      "Epoch 29/70\n",
      "195/195 [==============================] - 2s 8ms/step - loss: 0.1613 - acc: 0.9487\n",
      "Epoch 30/70\n",
      "195/195 [==============================] - 2s 8ms/step - loss: 0.1781 - acc: 0.9641\n",
      "Epoch 31/70\n",
      "195/195 [==============================] - 1s 7ms/step - loss: 0.1731 - acc: 0.9590\n",
      "Epoch 32/70\n",
      "195/195 [==============================] - 1s 7ms/step - loss: 0.1575 - acc: 0.9436\n",
      "Epoch 33/70\n",
      "195/195 [==============================] - 1s 7ms/step - loss: 0.0776 - acc: 0.9846\n",
      "Epoch 34/70\n",
      "195/195 [==============================] - 1s 8ms/step - loss: 0.0916 - acc: 0.9744\n",
      "Epoch 35/70\n",
      "195/195 [==============================] - 1s 7ms/step - loss: 0.0435 - acc: 0.9949\n",
      "Epoch 36/70\n",
      "195/195 [==============================] - 1s 7ms/step - loss: 0.0286 - acc: 1.0000\n",
      "Epoch 37/70\n",
      "195/195 [==============================] - 1s 7ms/step - loss: 0.0232 - acc: 1.0000\n",
      "Epoch 38/70\n",
      "195/195 [==============================] - 1s 7ms/step - loss: 0.0333 - acc: 0.9897\n",
      "Epoch 39/70\n",
      "195/195 [==============================] - 1s 7ms/step - loss: 0.3184 - acc: 0.8974\n",
      "Epoch 40/70\n",
      "195/195 [==============================] - 1s 7ms/step - loss: 0.2468 - acc: 0.9231\n",
      "Epoch 41/70\n",
      "195/195 [==============================] - 1s 7ms/step - loss: 0.2175 - acc: 0.9487\n",
      "Epoch 42/70\n",
      "195/195 [==============================] - 1s 7ms/step - loss: 0.1469 - acc: 0.9487\n",
      "Epoch 43/70\n",
      "195/195 [==============================] - 1s 7ms/step - loss: 0.0610 - acc: 0.9846\n",
      "Epoch 44/70\n",
      "195/195 [==============================] - 1s 8ms/step - loss: 0.0495 - acc: 0.9897\n",
      "Epoch 45/70\n",
      "195/195 [==============================] - 1s 7ms/step - loss: 0.0365 - acc: 0.9949\n",
      "Epoch 46/70\n",
      "195/195 [==============================] - 1s 7ms/step - loss: 0.0252 - acc: 1.0000\n",
      "Epoch 47/70\n",
      "195/195 [==============================] - 1s 7ms/step - loss: 0.0318 - acc: 0.9897\n",
      "Epoch 48/70\n",
      "195/195 [==============================] - 1s 7ms/step - loss: 0.0256 - acc: 1.0000\n",
      "Epoch 49/70\n",
      "195/195 [==============================] - 1s 7ms/step - loss: 0.0212 - acc: 1.0000\n",
      "Epoch 50/70\n",
      "195/195 [==============================] - 1s 7ms/step - loss: 0.0245 - acc: 0.9949\n",
      "Epoch 51/70\n",
      "195/195 [==============================] - 1s 7ms/step - loss: 0.3689 - acc: 0.9333\n",
      "Epoch 52/70\n",
      "195/195 [==============================] - 1s 8ms/step - loss: 0.3328 - acc: 0.8821\n",
      "Epoch 53/70\n",
      "195/195 [==============================] - 1s 8ms/step - loss: 0.2133 - acc: 0.9231\n",
      "Epoch 54/70\n",
      "195/195 [==============================] - 2s 8ms/step - loss: 0.1563 - acc: 0.9436\n",
      "Epoch 55/70\n",
      "195/195 [==============================] - 1s 7ms/step - loss: 0.1740 - acc: 0.9487\n",
      "Epoch 56/70\n",
      "195/195 [==============================] - 2s 8ms/step - loss: 0.1538 - acc: 0.9538\n",
      "Epoch 57/70\n",
      "195/195 [==============================] - 2s 8ms/step - loss: 0.0960 - acc: 0.9744\n",
      "Epoch 58/70\n",
      "195/195 [==============================] - 1s 7ms/step - loss: 0.0624 - acc: 0.9897\n",
      "Epoch 59/70\n",
      "195/195 [==============================] - 1s 8ms/step - loss: 0.0885 - acc: 0.9641\n",
      "Epoch 60/70\n",
      "195/195 [==============================] - 1s 8ms/step - loss: 0.0387 - acc: 0.9949\n",
      "Epoch 61/70\n",
      "195/195 [==============================] - 2s 8ms/step - loss: 0.0280 - acc: 1.0000\n",
      "Epoch 62/70\n",
      "195/195 [==============================] - 1s 8ms/step - loss: 0.0223 - acc: 0.9949\n",
      "Epoch 63/70\n",
      "195/195 [==============================] - 2s 8ms/step - loss: 0.0178 - acc: 1.0000\n",
      "Epoch 64/70\n",
      "195/195 [==============================] - 2s 8ms/step - loss: 0.0175 - acc: 1.0000\n",
      "Epoch 65/70\n",
      "195/195 [==============================] - 2s 8ms/step - loss: 0.0163 - acc: 1.0000\n",
      "Epoch 66/70\n",
      "195/195 [==============================] - 1s 7ms/step - loss: 0.0164 - acc: 1.0000\n",
      "Epoch 67/70\n",
      "195/195 [==============================] - 1s 7ms/step - loss: 0.0165 - acc: 1.0000\n",
      "Epoch 68/70\n",
      "195/195 [==============================] - 1s 7ms/step - loss: 0.0157 - acc: 1.0000\n",
      "Epoch 69/70\n",
      "195/195 [==============================] - 1s 7ms/step - loss: 0.0155 - acc: 1.0000\n",
      "Epoch 70/70\n",
      "195/195 [==============================] - 1s 7ms/step - loss: 0.0152 - acc: 1.0000\n"
     ]
    },
    {
     "data": {
      "text/plain": [
       "<keras.callbacks.History at 0x7f9c3f12c208>"
      ]
     },
     "execution_count": 12,
     "metadata": {},
     "output_type": "execute_result"
    }
   ],
   "source": [
    "#training the model, time for witchcraft\n",
    "model = model(X[0].shape)\n",
    "\n",
    "model.compile(optimizer='adam',loss='binary_crossentropy',metrics=[\"accuracy\"])\n",
    "\n",
    "model.fit(x = X_train, y = Y_train, epochs = 70, batch_size = 8,verbose=1)"
   ]
  },
  {
   "cell_type": "code",
   "execution_count": 13,
   "metadata": {},
   "outputs": [
    {
     "name": "stdout",
     "output_type": "stream",
     "text": [
      "27/27 [==============================] - 0s 4ms/step\n",
      "\n",
      "Loss = 2.37839984894\n",
      "Acc = 0.703703701496\n"
     ]
    }
   ],
   "source": [
    "preds = model.evaluate(x = X_test, y = Y_test)\n",
    "print()\n",
    "print(\"Loss = \" + str(preds[0]))\n",
    "print(\"Acc = \" + str(preds[1]))"
   ]
  },
  {
   "cell_type": "code",
   "execution_count": 14,
   "metadata": {},
   "outputs": [
    {
     "data": {
      "text/plain": [
       "<matplotlib.axes._subplots.AxesSubplot at 0x7f9c3ca9fa90>"
      ]
     },
     "execution_count": 14,
     "metadata": {},
     "output_type": "execute_result"
    },
    {
     "data": {
      "image/png": "[encoded data removed]",
      "text/plain": [
       "<matplotlib.figure.Figure at 0x7f9c3cba5cf8>"
      ]
     },
     "metadata": {},
     "output_type": "display_data"
    }
   ],
   "source": [
    "data['Mid'].plot()\n"
   ]
  },
  {
   "cell_type": "code",
   "execution_count": null,
   "metadata": {},
   "outputs": [],
   "source": []
  }
 ],
 "metadata": {
  "kernelspec": {
   "display_name": "Python 3",
   "language": "python",
   "name": "python3"
  },
  "language_info": {
   "codemirror_mode": {
    "name": "ipython",
    "version": 3
   },
   "file_extension": ".py",
   "mimetype": "text/x-python",
   "name": "python",
   "nbconvert_exporter": "python",
   "pygments_lexer": "ipython3",
   "version": "3.6.3"
  }
 },
 "nbformat": 4,
 "nbformat_minor": 2
}
